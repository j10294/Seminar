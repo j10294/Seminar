{
 "cells": [
  {
   "cell_type": "code",
   "execution_count": 106,
   "id": "8fb0e606-28b4-4cd1-9036-6cc1d803e2e3",
   "metadata": {},
   "outputs": [
    {
     "name": "stdout",
     "output_type": "stream",
     "text": [
      "1/1 [==============================] - 0s 63ms/step\n",
      "Sample 0: Predicted classes: [1], Actual label: 1\n",
      "Sample 1: Predicted classes: [0], Actual label: 0\n",
      "Sample 2: Predicted classes: [2], Actual label: 2\n",
      "Sample 3: Predicted classes: [1, 2], Actual label: 1\n",
      "Sample 4: Predicted classes: [1], Actual label: 1\n",
      "Sample 5: Predicted classes: [0], Actual label: 0\n",
      "Sample 6: Predicted classes: [1], Actual label: 1\n",
      "Sample 7: Predicted classes: [2], Actual label: 2\n",
      "Sample 8: Predicted classes: [1, 2], Actual label: 1\n",
      "Sample 9: Predicted classes: [1], Actual label: 1\n",
      "Sample 10: Predicted classes: [2, 1], Actual label: 2\n",
      "Sample 11: Predicted classes: [0], Actual label: 0\n",
      "Sample 12: Predicted classes: [0], Actual label: 0\n",
      "Sample 13: Predicted classes: [0], Actual label: 0\n",
      "Sample 14: Predicted classes: [0], Actual label: 0\n",
      "Sample 15: Predicted classes: [1], Actual label: 1\n",
      "Sample 16: Predicted classes: [2], Actual label: 2\n",
      "Sample 17: Predicted classes: [1], Actual label: 1\n",
      "Sample 18: Predicted classes: [1], Actual label: 1\n",
      "Sample 19: Predicted classes: [2], Actual label: 2\n",
      "Sample 20: Predicted classes: [0], Actual label: 0\n",
      "Sample 21: Predicted classes: [2, 1], Actual label: 2\n",
      "Sample 22: Predicted classes: [0], Actual label: 0\n",
      "Sample 23: Predicted classes: [2], Actual label: 2\n",
      "Sample 24: Predicted classes: [2, 1], Actual label: 2\n",
      "Sample 25: Predicted classes: [2], Actual label: 2\n",
      "Sample 26: Predicted classes: [2], Actual label: 2\n",
      "Sample 27: Predicted classes: [2], Actual label: 2\n",
      "Sample 28: Predicted classes: [0], Actual label: 0\n",
      "Sample 29: Predicted classes: [0], Actual label: 0\n"
     ]
    }
   ],
   "source": [
    "# epsilon 값 설정\n",
    "epsilon = 0.05\n",
    "\n",
    "# 모델 학습\n",
    "model.fit(X_train, y_train_cat, epochs=50, batch_size=16, verbose=0)\n",
    "\n",
    "# 비일치성 측도 계산 및 예측 신뢰 구간 설정\n",
    "y_pred_test = model.predict(X_test)\n",
    "prediction_intervals = []\n",
    "actual_labels = []\n",
    "\n",
    "for i in range(len(X_test)):\n",
    "    pred = y_pred_test[i]\n",
    "    true_label = y_test[i]\n",
    "    actual_labels.append(true_label)\n",
    "    \n",
    "    class_probabilities = pred\n",
    "    sorted_indices = np.argsort(class_probabilities)[::-1]  # 확률이 높은 순서대로 정렬\n",
    "    cumulative_prob = 0.0\n",
    "    prediction_interval = []\n",
    "    \n",
    "    for idx in sorted_indices:\n",
    "        cumulative_prob += class_probabilities[idx]\n",
    "        prediction_interval.append(idx)\n",
    "        if cumulative_prob >= 1.0 - epsilon:\n",
    "            break\n",
    "    \n",
    "    prediction_intervals.append(prediction_interval)\n",
    "\n",
    "# 결과 출력\n",
    "for i, interval in enumerate(prediction_intervals):\n",
    "    print(f\"Sample {i}: Predicted classes: {interval}, Actual label: {actual_labels[i]}\")\n"
   ]
  },
  {
   "cell_type": "markdown",
   "id": "7da9b132-2047-46aa-b4d9-53e0dbc730ff",
   "metadata": {},
   "source": [
    "# Tutorial on Coformal Prediction\n",
    "\n",
    "위 논문의 예제와 알고리즘을 파이썬으로 구현한 코드입니다."
   ]
  },
  {
   "cell_type": "markdown",
   "id": "3595e8b3-3342-4827-b452-4dbece8f17cb",
   "metadata": {},
   "source": [
    "## 3.3 The Betting Interpretation of Exchangeability"
   ]
  },
  {
   "cell_type": "code",
   "execution_count": 128,
   "id": "92d60662-4f95-485b-b915-640446d37f80",
   "metadata": {},
   "outputs": [
    {
     "name": "stdout",
     "output_type": "stream",
     "text": [
      "Joe announces the bag B: [4 1 3 1 0 3 3 0 0 1 2 4 3 1 4 0 0 4 2 3]\n",
      "Step 19: Bets {0: -0.30000000000000004, 1: -0.4000000000000001, 2: -0.9, 3: -0.20000000000000004, 4: 3.2000000000000006}, Current Capital: 2.4000000000000004\n",
      "Step 18: Bets {0: -0.28, 1: -0.37500000000000006, 2: 0.011764705882352941, 3: -0.37500000000000006, 4: -0.37500000000000006}, Current Capital: 1.006764705882353\n",
      "Step 17: Bets {0: -0.26, 1: -0.35000000000000003, 2: -1.7, 3: 4.561323529411765, 4: 0.02857142857142857}, Current Capital: 3.2866596638655463\n",
      "Step 16: Bets {0: 0.04166666666666668, 1: -0.325, 2: -1.6, 3: -0.325, 4: -0.4666666666666666}, Current Capital: 0.611659663865546\n",
      "Step 15: Bets {0: 0.03333333333333333, 1: -0.30000000000000004, 2: -1.5, 3: 3.4650210084033617, 4: -0.43333333333333335}, Current Capital: 1.8766806722689078\n",
      "Step 14: Bets {0: -0.4000000000000001, 1: -0.2750000000000001, 2: -1.4000000000000001, 3: 0.5453781512605047, 4: 0.025000000000000005}, Current Capital: 0.3720588235294121\n",
      "Step 13: Bets {0: -0.3666666666666667, 1: 0.0021568627450981644, 2: -0.09813725490196651, 3: 0.22647058823530736, 4: -0.6000000000000001}, Current Capital: -0.46411764705881564\n",
      "Bill has run out of capital!\n",
      "Final Capital: -0.46411764705881564\n"
     ]
    }
   ],
   "source": [
    "import numpy as np\n",
    "\n",
    "class BackwardLookingBettingGame:\n",
    "    def __init__(self, N):\n",
    "        self.N = N\n",
    "        self.KN = 1.0  # Initial capital\n",
    "        self.bag = np.random.randint(0, 5, N)  # Assume z can be 0 to 4 for simplicity\n",
    "        self.current_index = N - 1\n",
    "    \n",
    "    def bet(self):\n",
    "        while self.current_index >= 0:\n",
    "            current_value = self.bag[self.current_index]\n",
    "            current_bag = self.bag[:self.current_index + 1]\n",
    "            possible_values, counts = np.unique(current_bag, return_counts=True)\n",
    "            bets = {}\n",
    "            \n",
    "            for value, count in zip(possible_values, counts):\n",
    "                k = count\n",
    "                n = len(current_bag)\n",
    "                odds_for = k / n\n",
    "                odds_against = 1 - odds_for\n",
    "                bet_amount = min(self.KN, 0.1)  # Bill bets up to 0.1 units or remaining capital\n",
    "                \n",
    "                if current_value == value:\n",
    "                    win_amount = bet_amount * odds_for / odds_against\n",
    "                    bets[value] = win_amount\n",
    "                    self.KN += win_amount\n",
    "                else:\n",
    "                    lose_amount = bet_amount * odds_against / odds_for\n",
    "                    bets[value] = -lose_amount\n",
    "                    self.KN -= lose_amount\n",
    "            \n",
    "            print(f\"Step {self.current_index}: Bets {bets}, Current Capital: {self.KN}\")\n",
    "            \n",
    "            if self.KN <= 0:\n",
    "                print(\"Bill has run out of capital!\")\n",
    "                break\n",
    "            \n",
    "            self.current_index -= 1\n",
    "    \n",
    "    def announce_result(self):\n",
    "        print(\"Joe announces the bag B:\", self.bag)\n",
    "        self.bet()\n",
    "        print(\"Final Capital:\", self.KN)\n",
    "\n",
    "# 게임 초기화\n",
    "N = 20\n",
    "game = BackwardLookingBettingGame(N)\n",
    "game.announce_result()\n"
   ]
  },
  {
   "cell_type": "markdown",
   "id": "6c4f3edc-eb45-4de7-b7d2-349d24ca9c35",
   "metadata": {},
   "source": [
    "## 4.2 Conformal Prediction from Old Examples Alone"
   ]
  },
  {
   "cell_type": "code",
   "execution_count": 173,
   "id": "cb6490b0-c34e-4030-a222-79163a6cd244",
   "metadata": {},
   "outputs": [],
   "source": [
    "def conformal_algorithm(A, epsilon, examples, z):\n",
    "    n = len(examples)\n",
    "    provisional_set = examples + [z]\n",
    "    alpha_values = []\n",
    "\n",
    "    # Step 1: Provisionally set zn := z\n",
    "    zn = z\n",
    "\n",
    "    # Step 2: Calculate α for each example in the provisional set\n",
    "    for i in range(n + 1):\n",
    "        z_i = provisional_set[i]\n",
    "        \n",
    "        # Construct the bag without z_i\n",
    "        z_star = provisional_set[:i] + provisional_set[i+1:]\n",
    "        \n",
    "        # Calculate α using the nonconformity measure A\n",
    "        alpha = A(z_star, z_i)\n",
    "        alpha_values.append(alpha)\n",
    "        \n",
    "    # Calculate α_n\n",
    "    alpha_n = A(provisional_set[:n], zn)\n",
    "    \n",
    "    # Step 3: Calculate p_z\n",
    "    sorted_alphas = np.sort(alpha_values)\n",
    "    rank_of_alpha = np.sum(sorted_alphas >= alpha_n)\n",
    "\n",
    "    pz = rank_of_alpha / n\n",
    "\n",
    "    # Step 4: Decide whether to include z in γ\n",
    "    include_z = (pz > epsilon)\n",
    "    \n",
    "    return include_z\n",
    "\n",
    "# Example nonconformity measure: absolute difference\n",
    "def nonconformity_measure(z_star, z):\n",
    "    return np.abs(np.array(z_star) - z)"
   ]
  },
  {
   "cell_type": "code",
   "execution_count": 174,
   "id": "df4e2c7a-d2e5-406a-bb97-a3dd24ca8b75",
   "metadata": {},
   "outputs": [
    {
     "name": "stdout",
     "output_type": "stream",
     "text": [
      "Include z=5 in γε(z1,...,zn−1): True\n"
     ]
    }
   ],
   "source": [
    "# Example data\n",
    "examples = [1, 2, 3, 4]\n",
    "z = 5\n",
    "epsilon = 0.5\n",
    "\n",
    "# Run the algorithm\n",
    "include_z = conformal_algorithm(nonconformity_measure, epsilon, examples, z)\n",
    "print(f\"Include z={z} in γε(z1,...,zn−1): {include_z}\")\n"
   ]
  },
  {
   "cell_type": "markdown",
   "id": "19e458bd-0dc4-4c11-ad77-782d804e1a48",
   "metadata": {},
   "source": [
    "근데 어떻게 설정해도 다 True가 나오는 이슈......\n",
    "왜일까..??"
   ]
  },
  {
   "cell_type": "markdown",
   "id": "7fd4bd46-ff0d-4bb9-a6c5-543db181747b",
   "metadata": {},
   "source": [
    "## 4.3 Conformal Prediction Using a New Object"
   ]
  },
  {
   "cell_type": "markdown",
   "id": "52c2131c-3924-4b69-a19a-d9ad9e217b41",
   "metadata": {},
   "source": [
    "### Algorithm"
   ]
  },
  {
   "cell_type": "code",
   "execution_count": 175,
   "id": "94c1b43f-696c-4fb8-9936-107e6eaeb1ac",
   "metadata": {},
   "outputs": [],
   "source": [
    "def conformal_algorithm(A, epsilon, examples, xn, y):\n",
    "    n = len(examples)\n",
    "    provisional_set = examples + [(xn, y)]\n",
    "    alpha_values = []\n",
    "\n",
    "    # Step 1: Provisionally set zn := (xn, y)\n",
    "    zn = (xn, y)\n",
    "\n",
    "    # Step 2: Calculate α for each example in the provisional set\n",
    "    for i in range(n + 1):\n",
    "        z_i = provisional_set[i]\n",
    "        \n",
    "        # Construct the bag without z_i\n",
    "        z_star = provisional_set[:i] + provisional_set[i+1:]\n",
    "        \n",
    "        # Calculate α using the nonconformity measure A\n",
    "        alpha = A(z_star, z_i)\n",
    "        alpha_values.append(alpha)\n",
    "        \n",
    "    # Calculate α_n\n",
    "    alpha_n = A([example[0] for example in provisional_set[:n]], zn[0])\n",
    "\n",
    "    # Step 3: Calculate p_y\n",
    "    sorted_alphas = np.sort(alpha_values)\n",
    "    rank_of_alpha = np.sum(sorted_alphas >= alpha_n)\n",
    "\n",
    "    py = rank_of_alpha/n\n",
    "\n",
    "    # Step 4: Decide whether to include y in Γ\n",
    "    include_y = (py > epsilon)\n",
    "    \n",
    "    return include_y\n",
    "\n",
    "# Example nonconformity measure: absolute difference for xn as a vector and y as a scalar\n",
    "def nonconformity_measure(z_star, z):\n",
    "    return np.sum(np.abs(z_star) - z)"
   ]
  },
  {
   "cell_type": "code",
   "execution_count": 176,
   "id": "b1d45b91-6c34-40b5-857c-af46860dfc7a",
   "metadata": {},
   "outputs": [
    {
     "name": "stdout",
     "output_type": "stream",
     "text": [
      "Include y=1 in Γε(z1,...,zn−1,xn): False\n"
     ]
    }
   ],
   "source": [
    "# Example data 1\n",
    "examples = [(1, 0), (2, 0), (3, 1), (4, 1)]  # examples: (xn, y)\n",
    "xn = 0\n",
    "y = 1\n",
    "epsilon = 0.1\n",
    "\n",
    "# Run the algorithm\n",
    "include_y = conformal_algorithm(nonconformity_measure, epsilon, examples, xn, y)\n",
    "print(f\"Include y={y} in Γε(z1,...,zn−1,xn): {include_y}\")"
   ]
  },
  {
   "cell_type": "code",
   "execution_count": 177,
   "id": "1f45bd94-9782-497b-b331-74193b49a6a1",
   "metadata": {},
   "outputs": [
    {
     "name": "stdout",
     "output_type": "stream",
     "text": [
      "Include y=1 in Γε(z1,...,zn−1,xn): True\n"
     ]
    }
   ],
   "source": [
    "# Example data 2\n",
    "examples = [(1, 0), (2, 0), (3, 1), (4, 1)]  # examples: (xn, y)\n",
    "xn = 1\n",
    "y = 1\n",
    "epsilon = 0.1\n",
    "\n",
    "# Run the algorithm\n",
    "include_y = conformal_algorithm(nonconformity_measure, epsilon, examples, xn, y)\n",
    "print(f\"Include y={y} in Γε(z1,...,zn−1,xn): {include_y}\")"
   ]
  },
  {
   "cell_type": "markdown",
   "id": "1cf23222-fe5b-4aa7-87d3-6ace0522221e",
   "metadata": {},
   "source": [
    "### 4.3.1. Example : Classifying IRIS Flowers"
   ]
  },
  {
   "cell_type": "markdown",
   "id": "f774c61a-faee-4f1d-90e5-8a8b67b5c0b3",
   "metadata": {},
   "source": [
    "- sklearn의 iris dataset을 이용했습니다.\n",
    "- Neural Network Model\n",
    "- X : sepal_length, sepal_width, petal_length, petal_width\n",
    "- y=0 'setosa'\n",
    "- y=1 'versicolor'\n",
    "- y=2 'virginica"
   ]
  },
  {
   "cell_type": "markdown",
   "id": "851113ae-ec6e-4c39-b94d-875c3ba72722",
   "metadata": {},
   "source": [
    "#### (1) NN"
   ]
  },
  {
   "cell_type": "code",
   "execution_count": 204,
   "id": "25c27c4e-7849-4b34-9f44-8c6b2dfd3db3",
   "metadata": {},
   "outputs": [],
   "source": [
    "# 데이터 로드 및 전처리\n",
    "data = load_iris()\n",
    "X = data.data \n",
    "y = data.target\n",
    "\n",
    "# Train/test split\n",
    "X_train, X_test, y_train, y_test = train_test_split(X, y, test_size=0.2, random_state=42)\n",
    "\n",
    "# 데이터 스케일링\n",
    "scaler = StandardScaler()\n",
    "X_train = scaler.fit_transform(X_train)\n",
    "X_test = scaler.transform(X_test)\n",
    "\n",
    "# One-hot encoding\n",
    "y_train_cat = to_categorical(y_train)\n",
    "y_test_cat = to_categorical(y_test)\n",
    "\n",
    "# Modeling\n",
    "model = Sequential([\n",
    "    Dense(64, activation='relu', input_shape=(4,)),\n",
    "    #Dense(64, activation='relu'),\n",
    "    Dense(3), #3 labels\n",
    "    Softmax()\n",
    "])\n",
    "\n",
    "# Model Compile\n",
    "model.compile(optimizer='adam',\n",
    "              loss='categorical_crossentropy',\n",
    "              metrics=['accuracy'])"
   ]
  },
  {
   "cell_type": "code",
   "execution_count": 205,
   "id": "95946db2-e617-4355-8b0e-016212553b8e",
   "metadata": {},
   "outputs": [],
   "source": [
    "# Conformal Prediction을 위한 비일치성 측도 계산 함수\n",
    "def calculate_nonconformity(scores, true_label):\n",
    "    return 1.0 - scores[true_label]"
   ]
  },
  {
   "cell_type": "code",
   "execution_count": 206,
   "id": "92297a19-9766-438a-a0a4-85bd5caf857f",
   "metadata": {},
   "outputs": [
    {
     "name": "stdout",
     "output_type": "stream",
     "text": [
      "1/1 [==============================] - 0s 55ms/step\n",
      "Sample 0: Predicted classes: [1, 2], Actual label: 1\n",
      "Sample 1: Predicted classes: [0], Actual label: 0\n",
      "Sample 2: Predicted classes: [2], Actual label: 2\n",
      "Sample 3: Predicted classes: [1, 2], Actual label: 1\n",
      "Sample 4: Predicted classes: [1, 2], Actual label: 1\n",
      "Sample 5: Predicted classes: [0], Actual label: 0\n",
      "Sample 6: Predicted classes: [1, 2, 0], Actual label: 1\n",
      "Sample 7: Predicted classes: [2, 1], Actual label: 2\n",
      "Sample 8: Predicted classes: [1, 2], Actual label: 1\n",
      "Sample 9: Predicted classes: [1, 2], Actual label: 1\n",
      "Sample 10: Predicted classes: [2, 1], Actual label: 2\n",
      "Sample 11: Predicted classes: [0], Actual label: 0\n",
      "Sample 12: Predicted classes: [0], Actual label: 0\n",
      "Sample 13: Predicted classes: [0], Actual label: 0\n",
      "Sample 14: Predicted classes: [0], Actual label: 0\n",
      "Sample 15: Predicted classes: [1, 2, 0], Actual label: 1\n",
      "Sample 16: Predicted classes: [2], Actual label: 2\n",
      "Sample 17: Predicted classes: [1, 2], Actual label: 1\n",
      "Sample 18: Predicted classes: [1, 2], Actual label: 1\n",
      "Sample 19: Predicted classes: [2], Actual label: 2\n",
      "Sample 20: Predicted classes: [0], Actual label: 0\n",
      "Sample 21: Predicted classes: [2, 1], Actual label: 2\n",
      "Sample 22: Predicted classes: [0], Actual label: 0\n",
      "Sample 23: Predicted classes: [2, 1], Actual label: 2\n",
      "Sample 24: Predicted classes: [2, 1], Actual label: 2\n",
      "Sample 25: Predicted classes: [2], Actual label: 2\n",
      "Sample 26: Predicted classes: [2, 1], Actual label: 2\n",
      "Sample 27: Predicted classes: [2], Actual label: 2\n",
      "Sample 28: Predicted classes: [0], Actual label: 0\n",
      "Sample 29: Predicted classes: [0], Actual label: 0\n"
     ]
    }
   ],
   "source": [
    "# epsilon 값 설정\n",
    "epsilon = 0.05\n",
    "\n",
    "# 모델 학습\n",
    "model.fit(X_train, y_train_cat, epochs=50, batch_size=16, verbose=0)\n",
    "\n",
    "# 비일치성 측도 계산 및 예측 신뢰 구간 설정\n",
    "y_pred_test = model.predict(X_test)\n",
    "prediction_intervals = []\n",
    "actual_labels = []\n",
    "\n",
    "for i in range(len(X_test)):\n",
    "    pred = y_pred_test[i]\n",
    "    true_label = y_test[i]\n",
    "    actual_labels.append(true_label)\n",
    "    \n",
    "    class_probabilities = pred\n",
    "    sorted_indices = np.argsort(class_probabilities)[::-1]  # 확률이 높은 순서대로 정렬\n",
    "    cumulative_prob = 0.0\n",
    "    prediction_interval = []\n",
    "    \n",
    "    for idx in sorted_indices:\n",
    "        cumulative_prob += class_probabilities[idx]\n",
    "        prediction_interval.append(idx)\n",
    "        if cumulative_prob >= 1.0 - epsilon:\n",
    "            break\n",
    "    \n",
    "    prediction_intervals.append(prediction_interval)\n",
    "\n",
    "# 결과 출력\n",
    "for i, interval in enumerate(prediction_intervals):\n",
    "    print(f\"Sample {i}: Predicted classes: {interval}, Actual label: {actual_labels[i]}\")\n"
   ]
  },
  {
   "cell_type": "code",
   "execution_count": 191,
   "id": "6eb90db3-8ce1-464a-9ba8-0e28dacbd550",
   "metadata": {},
   "outputs": [
    {
     "name": "stdout",
     "output_type": "stream",
     "text": [
      "1/1 [==============================] - 0s 112ms/step - loss: 0.1294 - accuracy: 0.9667\n",
      "Test accuracy: 0.9667\n"
     ]
    }
   ],
   "source": [
    "# Evaluate the model\n",
    "loss, accuracy = model.evaluate(X_test, y_test_cat)\n",
    "print(f'Test accuracy: {accuracy:.4f}')"
   ]
  },
  {
   "cell_type": "markdown",
   "id": "c806f62d-cd4b-47c1-8678-aa1a46073fa8",
   "metadata": {},
   "source": [
    "#### (2) Distance to the nearest neighbor\n"
   ]
  },
  {
   "cell_type": "code",
   "execution_count": 213,
   "id": "852e2753-122b-4684-b3d2-79d66353fb18",
   "metadata": {},
   "outputs": [
    {
     "name": "stdout",
     "output_type": "stream",
     "text": [
      "Sample 0: Setosa score = 0.1, Versicolor score = 2.0905\n",
      "Sample 1: Setosa score = 0.1414, Versicolor score = 1.9131\n",
      "Sample 2: Setosa score = 0.1414, Versicolor score = 2.0857\n",
      "Sample 3: Setosa score = 0.1414, Versicolor score = 1.9157\n",
      "Sample 4: Setosa score = 0.1414, Versicolor score = 2.1424\n",
      "Sample 5: Setosa score = 0.3317, Versicolor score = 2.0567\n",
      "Sample 6: Setosa score = 0.2236, Versicolor score = 2.064\n",
      "Sample 7: Setosa score = 0.1, Versicolor score = 1.9698\n",
      "Sample 8: Setosa score = 0.1414, Versicolor score = 2.005\n",
      "Sample 9: Setosa score = 0.1, Versicolor score = 1.9105\n"
     ]
    }
   ],
   "source": [
    "import numpy as np\n",
    "from sklearn.datasets import load_iris\n",
    "from sklearn.neighbors import NearestNeighbors\n",
    "\n",
    "# Load IRIS dataset\n",
    "iris = load_iris()\n",
    "X = iris.data\n",
    "y = iris.target\n",
    "\n",
    "# Select samples for 'setosa' (y=0) and 'versicolor' (y=1)\n",
    "X_setosa = X[y == 0]\n",
    "X_versicolor = X[y == 1]\n",
    "\n",
    "# Calculate nonconformity scores using nearest neighbor distance\n",
    "def nonconformity_measure(sample, X_class):\n",
    "    \n",
    "    # Compute distances from 'sample' to all samples in 'X_class'\n",
    "    distances = np.linalg.norm(X_class - sample, axis=1)\n",
    "    \n",
    "    # Exclude distance to the sample itself (where distance is zero)\n",
    "    nonzero_distances = distances[distances != 0]\n",
    "    \n",
    "    # Find the minimum distance\n",
    "    min_distance = np.min(nonzero_distances) if len(nonzero_distances) > 0 else 0\n",
    "    return min_distance\n",
    "\n",
    "# Compute nonconformity scores for 'setosa' and 'versicolor' classes\n",
    "def compute_nonconformity_scores(X, X_setosa, X_versicolor):\n",
    "    n = len(X)\n",
    "    alpha_setosa = np.zeros(n)\n",
    "    alpha_versicolor = np.zeros(n)\n",
    "    \n",
    "    for i in range(n):\n",
    "        sample = X[i]\n",
    "        alpha_setosa[i] = nonconformity_measure(sample, X_setosa)\n",
    "        alpha_versicolor[i] = nonconformity_measure(sample, X_versicolor)\n",
    "    \n",
    "    return alpha_setosa, alpha_versicolor\n",
    "\n",
    "# Compute nonconformity scores for all samples\n",
    "alpha_setosa, alpha_versicolor = compute_nonconformity_scores(X, X_setosa, X_versicolor)\n",
    "\n",
    "# Print nonconformity scores for first 10 samples as an example\n",
    "for i in range(10):\n",
    "    print(f\"Sample {i}: Setosa score = {round(alpha_setosa[i],4)}, Versicolor score = {round(alpha_versicolor[i],4)}\")\n"
   ]
  },
  {
   "cell_type": "code",
   "execution_count": null,
   "id": "482995d7-7dc4-4981-b183-d730574c344e",
   "metadata": {},
   "outputs": [],
   "source": []
  },
  {
   "cell_type": "code",
   "execution_count": null,
   "id": "93b292ca-fc15-412d-803f-92ea8c77ac2b",
   "metadata": {},
   "outputs": [],
   "source": []
  }
 ],
 "metadata": {
  "kernelspec": {
   "display_name": "Python 3 (ipykernel)",
   "language": "python",
   "name": "python3"
  },
  "language_info": {
   "codemirror_mode": {
    "name": "ipython",
    "version": 3
   },
   "file_extension": ".py",
   "mimetype": "text/x-python",
   "name": "python",
   "nbconvert_exporter": "python",
   "pygments_lexer": "ipython3",
   "version": "3.10.12"
  }
 },
 "nbformat": 4,
 "nbformat_minor": 5
}
